{
 "cells": [
  {
   "cell_type": "markdown",
   "metadata": {},
   "source": [
    "เราจะดูการคำนวณเกี่ยวกับ vector คร่าว ๆ โดยเราจะเขียนฟังก์ชันต่าง ๆ โดยใช้ list เก็บ vector ฟังก์ชันที่เราจะเขียนมีดังนี้\n",
    "* การคูณด้วย scalar: `scalar_mult`\n",
    "* การบวกลบ vector: `vadd`, `vsub`\n",
    "\n",
    "และเราจะทดลองวาดกราฟของการประมวลผลเหล่านี้"
   ]
  },
  {
   "cell_type": "code",
   "execution_count": 1,
   "metadata": {},
   "outputs": [],
   "source": [
    "# เราจะเก็บ vector ด้วยลิสต์\n",
    "v1 = [1,2,3]"
   ]
  },
  {
   "cell_type": "markdown",
   "metadata": {},
   "source": [
    "ด้านล่างเป็นฟังก์ชัน `scalar_mult`  ในการคูณ vector `v` ด้วย scalar `a` เราจะคูณทุก ๆ element ของ `v` ด้วย `a`  โค้ดด้านล่างเขียนด้วย list comprehension ใน Python"
   ]
  },
  {
   "cell_type": "code",
   "execution_count": 2,
   "metadata": {},
   "outputs": [],
   "source": [
    "def scalar_mult(a, v):\n",
    "    return [a*x for x in v]"
   ]
  },
  {
   "cell_type": "code",
   "execution_count": 3,
   "metadata": {},
   "outputs": [
    {
     "data": {
      "text/plain": [
       "[10, 20, 30]"
      ]
     },
     "execution_count": 3,
     "metadata": {},
     "output_type": "execute_result"
    }
   ],
   "source": [
    "scalar_mult(10, v1)"
   ]
  },
  {
   "cell_type": "markdown",
   "metadata": {},
   "source": [
    "เราจะเขียนฟังก์ชัน `vadd` และ `vsub` โดยคุณจะต้องเขียนฟังก์ชัน `vsub` เอง เราสมมติว่า vector ที่ส่งให้ฟังก์ชันทั้งสองมีขนาดเท่ากัน"
   ]
  },
  {
   "cell_type": "code",
   "execution_count": 4,
   "metadata": {},
   "outputs": [],
   "source": [
    "def vadd(v1, v2):\n",
    "    return [v1[i] + v2[i] for i in range(len(v1))]"
   ]
  },
  {
   "cell_type": "code",
   "execution_count": 5,
   "metadata": {},
   "outputs": [
    {
     "data": {
      "text/plain": [
       "[6, 12, 38]"
      ]
     },
     "execution_count": 5,
     "metadata": {},
     "output_type": "execute_result"
    }
   ],
   "source": [
    "v2 = [5,10,35]\n",
    "vadd(v1, v2)"
   ]
  },
  {
   "cell_type": "markdown",
   "metadata": {},
   "source": [
    "### >>> งาน 1.1 `vsub`"
   ]
  },
  {
   "cell_type": "code",
   "execution_count": 6,
   "metadata": {},
   "outputs": [],
   "source": [
    "# งานของคุณ: เขียนฟังก์ชัน vsub ให้สมบูรณ์\n",
    "# ทดลองเขียนโดยใช้ scalar_mult กับ vadd\n",
    "def vsub(v1, v2):\n",
    "    return []"
   ]
  },
  {
   "cell_type": "code",
   "execution_count": 7,
   "metadata": {},
   "outputs": [
    {
     "data": {
      "text/plain": [
       "[]"
      ]
     },
     "execution_count": 7,
     "metadata": {},
     "output_type": "execute_result"
    }
   ],
   "source": [
    "# ถ้า vsub ถูกต้อง ผลลัพธ์ควรเท่ากับ [-4, -8, -32]\n",
    "\n",
    "vsub(v1, v2)"
   ]
  },
  {
   "cell_type": "markdown",
   "metadata": {},
   "source": [
    "ในส่วนถัดไปเราจะทดลองวาด vector  โดยเราจะสนใจเวกเตอร์ในสองมิติเป็นหลัก"
   ]
  },
  {
   "cell_type": "code",
   "execution_count": 8,
   "metadata": {},
   "outputs": [],
   "source": [
    "import matplotlib.pyplot as plt"
   ]
  },
  {
   "cell_type": "markdown",
   "metadata": {},
   "source": [
    "ฟังก์ชัน `plot_vectors` จะวาดรายการของเวกเตอร์ โดยมีจุดเริ่มของทุกเวกเตอร์ที่ (0,0) เพื่อความง่ายในการพิจารณาต้อง `scale` ให้เหมาะสม ค่า `scale` ระบุว่าหนึ่งหน่วยของ vector จะยาวเท่าใดของการวาด"
   ]
  },
  {
   "cell_type": "code",
   "execution_count": 9,
   "metadata": {},
   "outputs": [],
   "source": [
    "def plot_vectors(vectors, scale):\n",
    "    xcomp = [v[0] for v in vectors]\n",
    "    ycomp = [v[1] for v in vectors]\n",
    "\n",
    "    plt.quiver([0]*len(vectors), [0]*len(vectors), xcomp, ycomp, scale=scale)\n",
    "    plt.show()"
   ]
  },
  {
   "cell_type": "code",
   "execution_count": 10,
   "metadata": {},
   "outputs": [
    {
     "data": {
      "image/png": "[encoded data removed]",
      "text/plain": [
       "<Figure size 432x288 with 1 Axes>"
      ]
     },
     "metadata": {
      "needs_background": "light"
     },
     "output_type": "display_data"
    }
   ],
   "source": [
    "v1 = [1,2]\n",
    "v2 = [3,1]\n",
    "vectors = [v1,v2]\n",
    "plot_vectors(vectors, 10)"
   ]
  },
  {
   "cell_type": "code",
   "execution_count": 11,
   "metadata": {},
   "outputs": [],
   "source": [
    "# ด้านล่างเราคำนวณผลคูณของ 0.1, 0.2, 0.3,..., 1 กับ v1\n",
    "vectors = [scalar_mult(a/10, v1) for a in range(1,10)]"
   ]
  },
  {
   "cell_type": "markdown",
   "metadata": {},
   "source": [
    "### >>> งาน 1.2 ทดลองเรียก `plot_vectors`"
   ]
  },
  {
   "cell_type": "code",
   "execution_count": 12,
   "metadata": {},
   "outputs": [],
   "source": [
    "# งานของคุณ: สั่งวาดกราฟ เลือกสเกลให้เหมาะสม\n",
    "# plot_vectors(...)"
   ]
  },
  {
   "cell_type": "markdown",
   "metadata": {},
   "source": [
    "เราจะทดลองวาด convex combination ของ v1 และ v2"
   ]
  },
  {
   "cell_type": "code",
   "execution_count": 13,
   "metadata": {},
   "outputs": [
    {
     "data": {
      "text/plain": [
       "[0.1, 0.2, 0.3, 0.4, 0.5, 0.6, 0.7, 0.8, 0.9]"
      ]
     },
     "execution_count": 13,
     "metadata": {},
     "output_type": "execute_result"
    }
   ],
   "source": [
    "alphas = [a/10 for a in range(1,10)]\n",
    "alphas"
   ]
  },
  {
   "cell_type": "markdown",
   "metadata": {},
   "source": [
    "## Convex combination\n",
    "\n",
    "Convex combination ของเซตของเวกเตอร์ คือ linear combination ของเซตของเวกเตอร์ที่ค่าสัมประสิทธิ์ทุกตัวมีค่าไม่น้อยกว่าศูนย์ และมีผลรวมของสัมประสิทธิ์เท่ากับ 1"
   ]
  },
  {
   "cell_type": "markdown",
   "metadata": {},
   "source": [
    "### >>> งาน 1.3 คำนวณ convex combination"
   ]
  },
  {
   "cell_type": "code",
   "execution_count": 14,
   "metadata": {},
   "outputs": [],
   "source": [
    "# งานของคุณ: แก้คำสั่งด้านล่างให้คำนวณ convex combination ของ v1 กับ v2 โดยใช้ alphas เป็นสัมประสิทธิ์\n",
    "# ให้เรียกใช้ `scalar_mult`, `vadd` ได้\n",
    "cvectors = [[0,0] for a in alphas]"
   ]
  },
  {
   "cell_type": "code",
   "execution_count": 15,
   "metadata": {},
   "outputs": [
    {
     "data": {
      "text/plain": [
       "[[0, 0], [0, 0], [0, 0], [0, 0], [0, 0], [0, 0], [0, 0], [0, 0], [0, 0]]"
      ]
     },
     "execution_count": 15,
     "metadata": {},
     "output_type": "execute_result"
    }
   ],
   "source": [
    "cvectors"
   ]
  },
  {
   "cell_type": "code",
   "execution_count": 16,
   "metadata": {},
   "outputs": [
    {
     "data": {
      "image/png": "[encoded data removed]",
      "text/plain": [
       "<Figure size 432x288 with 1 Axes>"
      ]
     },
     "metadata": {
      "needs_background": "light"
     },
     "output_type": "display_data"
    }
   ],
   "source": [
    "plot_vectors([v1,v2] + cvectors, 10)"
   ]
  },
  {
   "cell_type": "markdown",
   "metadata": {},
   "source": [
    "## Linear combination\n",
    "\n",
    "เราจะทดลองสร้าง linear combination ของ vector `v1` และ `v2` แบบง่าย ๆ โดยเราจะทยอยคูณ `v1` และ `v2` ด้วยค่า -1, -0.9, ..., 0.9, 1 และวาดผลลัพธ์ออกมา  อย่างไรก็ตาม การวาดเป็นเส้นลูกศรจะทำให้ดูลำบาก เราเลือกจะใช้ scatter plot แทน"
   ]
  },
  {
   "cell_type": "markdown",
   "metadata": {},
   "source": [
    "### >>> งาน 1.4 คำนวณ linear combination"
   ]
  },
  {
   "cell_type": "code",
   "execution_count": 17,
   "metadata": {},
   "outputs": [],
   "source": [
    "vectors = []\n",
    "for a in range(-10,10):\n",
    "    for b in range(-10,10):\n",
    "        # งานของคุณ: คำนวณ linear combination ของ v1 และ v2 โดยใช้ a/10 กับ b/10 เป็นสัมประสิทธิ์ ใส่ใน v\n",
    "        # ใช้ scalar_mult กับ vadd ได้\n",
    "        v = [0,0]\n",
    "        vectors.append(v)"
   ]
  },
  {
   "cell_type": "code",
   "execution_count": 18,
   "metadata": {},
   "outputs": [
    {
     "data": {
      "text/plain": [
       "<matplotlib.collections.PathCollection at 0x7f68312d9400>"
      ]
     },
     "execution_count": 18,
     "metadata": {},
     "output_type": "execute_result"
    },
    {
     "data": {
      "image/png": "[encoded data removed]",
      "text/plain": [
       "<Figure size 432x288 with 1 Axes>"
      ]
     },
     "metadata": {
      "needs_background": "light"
     },
     "output_type": "display_data"
    }
   ],
   "source": [
    "plt.scatter([v[0] for v in vectors], [v[1] for v in vectors])"
   ]
  },
  {
   "cell_type": "code",
   "execution_count": null,
   "metadata": {},
   "outputs": [],
   "source": []
  }
 ],
 "metadata": {
  "kernelspec": {
   "display_name": "Python 3",
   "language": "python",
   "name": "python3"
  },
  "language_info": {
   "codemirror_mode": {
    "name": "ipython",
    "version": 3
   },
   "file_extension": ".py",
   "mimetype": "text/x-python",
   "name": "python",
   "nbconvert_exporter": "python",
   "pygments_lexer": "ipython3",
   "version": "3.6.5"
  }
 },
 "nbformat": 4,
 "nbformat_minor": 2
}
