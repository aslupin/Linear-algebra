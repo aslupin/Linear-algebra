{
 "cells": [
  {
   "cell_type": "code",
   "execution_count": 7,
   "metadata": {},
   "outputs": [],
   "source": [
    "st = \"\"\"1\t1\t1\t1\t1\t1\t1\t1\t1\t1\t1\t1\n",
    "1\t1\t1\t1\t1\t1\t1\t1\t1\t1\t1\t1\n",
    "1\t1\t\t\t\t1\t1\t\t\t\t1\t1\n",
    "1\t1\t\t\t\t1\t1\t\t\t\t1\t1\n",
    "1\t1\t\t\t\t1\t1\t\t\t\t1\t1\n",
    "1\t1\t1\t1\t1\t1\t1\t1\t1\t1\t1\t1\n",
    "1\t1\t1\t1\t1\t1\t1\t1\t1\t1\t1\t1\n",
    "1\t1\t1\t\t\t\t\t\t\t1\t1\t1\n",
    "1\t1\t1\t1\t\t\t\t\t1\t1\t1\t1\n",
    "1\t1\t1\t1\t1\t\t\t1\t1\t1\t1\t1\n",
    "1\t1\t1\t1\t1\t1\t1\t1\t1\t1\t1\t1\n",
    "1\t1\t1\t1\t1\t1\t1\t1\t1\t1\t1\t1\n",
    "\"\"\"\n",
    "\n",
    "f = open(\"face.txt\", \"w\")\n",
    "\n",
    "lines = st.split(\"\\n\")\n",
    "rows = len(lines)\n",
    "cols = len(lines[0].split(\"\\t\"))\n",
    "sx = 10\n",
    "sy = 15\n",
    "for y in range(rows):\n",
    "    items = lines[y].split(\"\\t\")\n",
    "    for x in range(len(items)):\n",
    "        if items[x] == '1':\n",
    "            print(sx+x, sy-y, file=f)\n",
    "f.close()"
   ]
  },
  {
   "cell_type": "code",
   "execution_count": null,
   "metadata": {},
   "outputs": [],
   "source": []
  }
 ],
 "metadata": {
  "kernelspec": {
   "display_name": "Python 3",
   "language": "python",
   "name": "python3"
  },
  "language_info": {
   "codemirror_mode": {
    "name": "ipython",
    "version": 3
   },
   "file_extension": ".py",
   "mimetype": "text/x-python",
   "name": "python",
   "nbconvert_exporter": "python",
   "pygments_lexer": "ipython3",
   "version": "3.6.5"
  }
 },
 "nbformat": 4,
 "nbformat_minor": 2
}
