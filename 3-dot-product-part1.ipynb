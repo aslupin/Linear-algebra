{
 "cells": [
  {
   "cell_type": "markdown",
   "metadata": {},
   "source": [
    "ในกิจกรรมสุดท้ายเราจะทดลองเกี่ยวกับ [dot product](https://en.wikipedia.org/wiki/Dot_product)  ก่อนอื่นเรามาเขียนฟังก์ชันเกี่ยวกับขนาดและการปรับขนาดของเวกเตอร์กันก่อน"
   ]
  },
  {
   "cell_type": "code",
   "execution_count": 1,
   "metadata": {},
   "outputs": [],
   "source": [
    "# ฟังก์ชันจากครั้งก่อน\n",
    "def scalar_mult(a, v):\n",
    "    return [a*x for x in v]\n",
    "\n",
    "def vadd(v1, v2):\n",
    "    return [v1[i] + v2[i] for i in range(len(v1))]"
   ]
  },
  {
   "cell_type": "markdown",
   "metadata": {},
   "source": [
    "### ขนาดและเวกเตอร์หน่วย\n",
    "\n",
    "ในกรณีที่เราพิจารณาเวกเตอร์บนจำนวนจริง (vectors over reals) เราสามารถนิยาม **ความยาว** ของเวกเตอร์เป็นระยะทางแบบยุคลิดระหว่างจุด (0,0) หรือ (0,0,0) กับจุดปลายของเวกเตอร์ได้\n",
    "\n",
    "นั่นคือถ้าเรามีเวกเตอร์ $(x,y,z)$ เราจะนิยามความยาวของเวกเตอร์ดังกล่าวว่าเท่ากับ $\\sqrt{x^2+y^2+z^2}$   \n",
    "\n",
    "*หมายเหตุ* ในกรณีของปริภูมิเวกเตอร์แบบอื่น ๆ เราจะสามารถนิยามแนวคิดเกี่ยวกับความยาวนี้ให้มีความเป็นทั่วไปได้ เราจะกล่าวถึงเรื่องในการเรียนครั้งถัด ๆ ไป\n",
    "\n",
    "### >>> งาน 3.1 เขียนฟังก์ชัน `vlength`"
   ]
  },
  {
   "cell_type": "code",
   "execution_count": 2,
   "metadata": {},
   "outputs": [],
   "source": [
    "import math\n",
    "\n",
    "# งานของคุณ: เขียนฟังก์ชันนี้ให้สมบูรณ์ สามารถใช้ฟังก์ชัน math.sqrt เพื่อคำนวณรากที่สองได้\n",
    "def vlength(v):\n",
    "    return 0"
   ]
  },
  {
   "cell_type": "code",
   "execution_count": 3,
   "metadata": {},
   "outputs": [
    {
     "name": "stdout",
     "output_type": "stream",
     "text": [
      "[0, 0, 0]\n"
     ]
    }
   ],
   "source": [
    "# ทดสอบผลลัพธ์ ควรจะได้เท่ากับ [1.4142135623730951, 1.0, 2.449489742783178]\n",
    "\n",
    "print([vlength([1,1]), vlength([1,0,0,0]), vlength([1,2,1])])"
   ]
  },
  {
   "cell_type": "markdown",
   "metadata": {},
   "source": [
    "เมื่อเราได้รับเวกเตอร์ $v$ เราสามารถหาค่า $\\alpha$ ที่ทำให้ความยาวของ $\\alpha v$ มีค่าเท่ากับ 1 ได้  ในที่นี้เราจะเรียกเวกเตอร์ที่มีความยาวเท่ากับ 1 ว่าเวกเตอร์หน่วย  กระบวนการที่หาเวกเตอร์หน่วยที่มีทิศทางเดียวกับเวกเตอร์ $v$ เรียกว่าการ **normalize**"
   ]
  },
  {
   "cell_type": "markdown",
   "metadata": {},
   "source": [
    "### >>> งาน 3.2 เขียนฟังก์ชัน vnormalize"
   ]
  },
  {
   "cell_type": "code",
   "execution_count": 4,
   "metadata": {},
   "outputs": [],
   "source": [
    "# งานของคุณ: เขียนฟังก์ชันนี้ให้สมบูรณ์\n",
    "def vnormalize(v):\n",
    "    return [0,0]"
   ]
  },
  {
   "cell_type": "code",
   "execution_count": 5,
   "metadata": {},
   "outputs": [
    {
     "name": "stdout",
     "output_type": "stream",
     "text": [
      "[0, 0]\n",
      "[0, 0]\n"
     ]
    }
   ],
   "source": [
    "# ทดสอบผลลัพธ์ ควรได้เท่ากับ\n",
    "# [0.7071067811865475, 0.7071067811865475]\n",
    "# [0.19611613513818404, 0.9805806756909202]\n",
    "\n",
    "print(vnormalize([1,1]))\n",
    "print(vnormalize([1,5]))"
   ]
  },
  {
   "cell_type": "markdown",
   "metadata": {},
   "source": [
    "## ข้อมูลทดสอบ\n",
    "เราจะโหลดเซตของเวกเตอร์ในสองมิติเพื่อทดสอบ ข้อมูลนี้อยู่ในไฟล์ `face.txt`"
   ]
  },
  {
   "cell_type": "code",
   "execution_count": 6,
   "metadata": {},
   "outputs": [],
   "source": [
    "def load_face():\n",
    "    vectors = []\n",
    "    for line in open('face.txt').readlines():\n",
    "        items = line.strip().split()\n",
    "        vectors.append([float(items[0]), float(items[1])])\n",
    "    return vectors\n",
    "\n",
    "fvectors = load_face()"
   ]
  },
  {
   "cell_type": "code",
   "execution_count": 7,
   "metadata": {},
   "outputs": [],
   "source": [
    "# ในกิจกรรมนี้เราจะ plot แบบ scatter เป็นหลัก\n",
    "import matplotlib.pyplot as plt\n",
    "\n",
    "def plot_scatter(vectors):\n",
    "    vectors = list(vectors)\n",
    "    xx = [v[0] for v in vectors]\n",
    "    yy = [v[1] for v in vectors]\n",
    "    xmin, xmax = min(xx), max(xx)\n",
    "    ymin, ymax = min(yy), max(yy)\n",
    "    \n",
    "    if ymin > 0: ymin = 0\n",
    "    if ymax < 0: ymax = 0\n",
    "    if xmin > 0:xmin = 0\n",
    "    if xmax < 0:xmax = 0\n",
    "    \n",
    "    plt.axis([xmin - 1, xmax + 1, ymin - 1, ymax + 1])\n",
    "    plt.scatter(xx,yy)"
   ]
  },
  {
   "cell_type": "code",
   "execution_count": 8,
   "metadata": {},
   "outputs": [
    {
     "data": {
      "image/png": "[encoded data removed]",
      "text/plain": [
       "<Figure size 432x288 with 1 Axes>"
      ]
     },
     "metadata": {
      "needs_background": "light"
     },
     "output_type": "display_data"
    }
   ],
   "source": [
    "plot_scatter(fvectors)"
   ]
  },
  {
   "cell_type": "markdown",
   "metadata": {},
   "source": [
    "### ฟังก์ชัน `map`"
   ]
  },
  {
   "cell_type": "code",
   "execution_count": 9,
   "metadata": {},
   "outputs": [
    {
     "data": {
      "image/png": "[encoded data removed]",
      "text/plain": [
       "<Figure size 432x288 with 1 Axes>"
      ]
     },
     "metadata": {
      "needs_background": "light"
     },
     "output_type": "display_data"
    }
   ],
   "source": [
    "# ด้านล่างเป็นตัวอย่างการใช้ฟังก์ชัน map ในการ apply function f ในสมาชิกทุกตัวใน fvectors\n",
    "\n",
    "def dosomething(v):\n",
    "    return vadd(scalar_mult(2,v), [5,5])\n",
    "\n",
    "plot_scatter(fvectors + list(map(dosomething, fvectors)))"
   ]
  },
  {
   "cell_type": "markdown",
   "metadata": {},
   "source": [
    "### >>> งาน 3.3 ทดลองกับ face\n",
    "\n",
    "ทดลองแก้ฟังก์ชัน `dosomething2` ด้านล่าง ให้ย้ายรูปหน้าไปที่ต่าง ๆ และปรับขนาด"
   ]
  },
  {
   "cell_type": "code",
   "execution_count": 10,
   "metadata": {},
   "outputs": [
    {
     "data": {
      "image/png": "[encoded data removed]",
      "text/plain": [
       "<Figure size 432x288 with 1 Axes>"
      ]
     },
     "metadata": {
      "needs_background": "light"
     },
     "output_type": "display_data"
    }
   ],
   "source": [
    "def dosomething2(v):\n",
    "    return v\n",
    "\n",
    "plot_scatter(fvectors + list(map(dosomething2, fvectors)))"
   ]
  },
  {
   "cell_type": "markdown",
   "metadata": {},
   "source": [
    "## Dot product\n",
    "นิยามของ dot product ของเวกเตอร์ `u` และ `v` คือผลรวมของผลคูณของแต่ละคู่ของ element ที่ตรงกันใน `u` และ `v`"
   ]
  },
  {
   "cell_type": "markdown",
   "metadata": {},
   "source": [
    "### >>> งาน 3.4 เขียนฟังก์ชัน `dot_product`"
   ]
  },
  {
   "cell_type": "code",
   "execution_count": 11,
   "metadata": {},
   "outputs": [],
   "source": [
    "def dot_product(u,v):\n",
    "    # งานของคุณ: เขียนฟังก์ชันให้สมบูรณ์\n",
    "    return 0"
   ]
  },
  {
   "cell_type": "code",
   "execution_count": 12,
   "metadata": {},
   "outputs": [
    {
     "name": "stdout",
     "output_type": "stream",
     "text": [
      "[0, 0, 0, 0]\n"
     ]
    }
   ],
   "source": [
    "# ทดสอบได้ด้านล่าง คำตอบควรเป็น [6, 0, 0, 23.5]\n",
    "print([dot_product([1,1,1],[1,2,3]),\n",
    "       dot_product([1,0,0],[0,0,1]),\n",
    "       dot_product([1,2],[-2,1]),\n",
    "       dot_product([1,2,3,4,5],[-2,1,0.5,3,2])])"
   ]
  }
 ],
 "metadata": {
  "kernelspec": {
   "display_name": "Python 3",
   "language": "python",
   "name": "python3"
  },
  "language_info": {
   "codemirror_mode": {
    "name": "ipython",
    "version": 3
   },
   "file_extension": ".py",
   "mimetype": "text/x-python",
   "name": "python",
   "nbconvert_exporter": "python",
   "pygments_lexer": "ipython3",
   "version": "3.6.5"
  }
 },
 "nbformat": 4,
 "nbformat_minor": 2
}
